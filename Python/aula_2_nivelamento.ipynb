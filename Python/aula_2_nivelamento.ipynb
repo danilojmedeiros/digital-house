{
 "cells": [
  {
   "cell_type": "code",
   "execution_count": 1,
   "id": "3ef26e8e",
   "metadata": {},
   "outputs": [],
   "source": [
    "a = \"digital\""
   ]
  },
  {
   "cell_type": "code",
   "execution_count": 2,
   "id": "aec7630f",
   "metadata": {
    "scrolled": true
   },
   "outputs": [
    {
     "name": "stdout",
     "output_type": "stream",
     "text": [
      "DIGITAL\n"
     ]
    }
   ],
   "source": [
    "print(a.upper())"
   ]
  },
  {
   "cell_type": "code",
   "execution_count": 3,
   "id": "029f372a",
   "metadata": {},
   "outputs": [],
   "source": [
    "fruta = \"exit\""
   ]
  },
  {
   "cell_type": "code",
   "execution_count": 4,
   "id": "ebabc779",
   "metadata": {},
   "outputs": [
    {
     "name": "stdout",
     "output_type": "stream",
     "text": [
      "e\n",
      "t\n"
     ]
    }
   ],
   "source": [
    "print(fruta[0])\n",
    "print(fruta[-1])"
   ]
  },
  {
   "cell_type": "code",
   "execution_count": 5,
   "id": "6f941586",
   "metadata": {},
   "outputs": [],
   "source": [
    "b = 'Aula 2 Digital House'"
   ]
  },
  {
   "cell_type": "code",
   "execution_count": 6,
   "id": "2b0f8efe",
   "metadata": {},
   "outputs": [
    {
     "data": {
      "text/plain": [
       "20"
      ]
     },
     "execution_count": 6,
     "metadata": {},
     "output_type": "execute_result"
    }
   ],
   "source": [
    "len(b)"
   ]
  },
  {
   "cell_type": "code",
   "execution_count": 9,
   "id": "97b3c8ad",
   "metadata": {
    "scrolled": true
   },
   "outputs": [
    {
     "data": {
      "text/plain": [
       "'esuoH latigiD 2 aluA'"
      ]
     },
     "execution_count": 9,
     "metadata": {},
     "output_type": "execute_result"
    }
   ],
   "source": [
    "'Aula 2 Digital House'[::-1]"
   ]
  },
  {
   "cell_type": "code",
   "execution_count": null,
   "id": "23dedbca",
   "metadata": {},
   "outputs": [],
   "source": []
  }
 ],
 "metadata": {
  "kernelspec": {
   "display_name": "Python 3 (ipykernel)",
   "language": "python",
   "name": "python3"
  },
  "language_info": {
   "codemirror_mode": {
    "name": "ipython",
    "version": 3
   },
   "file_extension": ".py",
   "mimetype": "text/x-python",
   "name": "python",
   "nbconvert_exporter": "python",
   "pygments_lexer": "ipython3",
   "version": "3.9.7"
  }
 },
 "nbformat": 4,
 "nbformat_minor": 5
}
