{
 "cells": [
  {
   "cell_type": "markdown",
   "id": "1477d50d",
   "metadata": {},
   "source": [
    "Atividade 1 - Faça um Programa que peça um valor e mostre na tela se o valor é positivo ou negativo."
   ]
  },
  {
   "cell_type": "code",
   "execution_count": 5,
   "id": "f4737ff9",
   "metadata": {},
   "outputs": [
    {
     "name": "stdout",
     "output_type": "stream",
     "text": [
      "Digite um valor: 0\n",
      "O valor é 0 e 0 é par\n"
     ]
    }
   ],
   "source": [
    "valor1 = int(input(\"Digite um valor: \"))\n",
    "\n",
    "if valor1 > 0:\n",
    "    print(\"O valor é positivo\")\n",
    "elif valor1 == 0:\n",
    "    print(\"O valor é 0 e 0 é par\")\n",
    "else: \n",
    "    print(\"O valor é negativo\")"
   ]
  },
  {
   "cell_type": "code",
   "execution_count": 7,
   "id": "2874dc3b",
   "metadata": {},
   "outputs": [
    {
     "name": "stdout",
     "output_type": "stream",
     "text": [
      "1\n",
      "3\n",
      "5\n",
      "7\n",
      "9\n",
      "11\n",
      "13\n",
      "15\n",
      "17\n",
      "19\n",
      "21\n",
      "23\n",
      "25\n",
      "27\n",
      "29\n",
      "31\n",
      "33\n",
      "35\n",
      "37\n",
      "39\n",
      "41\n",
      "43\n",
      "45\n",
      "47\n",
      "49\n"
     ]
    }
   ],
   "source": [
    "i = 1\n",
    "while i <= 50:\n",
    "    print(i)\n",
    "    i = i+2"
   ]
  },
  {
   "cell_type": "markdown",
   "id": "670f6074",
   "metadata": {},
   "source": [
    "Desafio\n",
    "Recebe input:\n",
    "Recebeu promoção: sim ou não\n",
    "Está sol: sim ou não\n",
    "Se estiver sol e ganhou a promoção -> família compra tv e sai para tomar sorvete\n",
    "Ganhou promoção e não estiver sol -> familía não sai para tomar sorvete, mas compra tv\n",
    "Se não ganhou promoção -> a família não compra tv e não toma sorvete"
   ]
  },
  {
   "cell_type": "code",
   "execution_count": 12,
   "id": "49d51d16",
   "metadata": {},
   "outputs": [
    {
     "name": "stdout",
     "output_type": "stream",
     "text": [
      "Recebeu a promoção? y/n \n",
      "n\n",
      "Está sol? y/n \n",
      "y\n",
      "A família não compra tv e não toma sorvete\n"
     ]
    }
   ],
   "source": [
    "promocao = input(\"Recebeu a promoção? y/n \\n\")\n",
    "tempo = input(\"Está sol? y/n \\n\")\n",
    "\n",
    "if promocao == 'y' and tempo =='y':\n",
    "    print(\"Família compra tv e sai para tomar sorvete\")\n",
    "elif promocao == 'y' and tempo == 'n':\n",
    "    print(\"A família não sai para tomar sorvete, mas compra tv\")\n",
    "else:\n",
    "    print(\"A família não compra tv e não toma sorvete\")"
   ]
  }
 ],
 "metadata": {
  "kernelspec": {
   "display_name": "Python 3 (ipykernel)",
   "language": "python",
   "name": "python3"
  },
  "language_info": {
   "codemirror_mode": {
    "name": "ipython",
    "version": 3
   },
   "file_extension": ".py",
   "mimetype": "text/x-python",
   "name": "python",
   "nbconvert_exporter": "python",
   "pygments_lexer": "ipython3",
   "version": "3.9.7"
  }
 },
 "nbformat": 4,
 "nbformat_minor": 5
}
