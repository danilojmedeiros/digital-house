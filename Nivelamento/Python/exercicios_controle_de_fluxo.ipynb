{
 "cells": [
  {
   "cell_type": "code",
   "execution_count": 1,
   "metadata": {},
   "outputs": [
    {
     "name": "stdout",
     "output_type": "stream",
     "text": [
      "Digite um valor qualquer: \n",
      "3\n",
      "Tente novamente mais tarde.\n"
     ]
    }
   ],
   "source": [
    "valor1 = 10\n",
    "valor2 = int(input(\"Digite um valor qualquer: \\n\"))\n",
    "\n",
    "if valor1 == valor2 :\n",
    "             print(\"Parabéns você acertou!\")\n",
    "else :\n",
    "             print(\"Tente novamente mais tarde.\")"
   ]
  },
  {
   "cell_type": "code",
   "execution_count": 2,
   "metadata": {},
   "outputs": [
    {
     "name": "stdout",
     "output_type": "stream",
     "text": [
      "Digite um valor qualquer: \n",
      "4\n",
      "O valor correto está acima\n"
     ]
    }
   ],
   "source": [
    "valor2 = int(input(\"Digite um valor qualquer: \\n\"))\n",
    "if valor1 == valor2 :\n",
    "        print(\"Parabéns você acertou!\")\n",
    "elif valor2 < valor1 :\n",
    "        print(\"O valor correto está acima\")\n",
    "elif valor2> valor1 :\n",
    "        print(\"O valor correto está  abaixo\")"
   ]
  },
  {
   "cell_type": "markdown",
   "metadata": {},
   "source": [
    "Faça um programa que verifique se uma letra digitada é vogal ou consoante."
   ]
  },
  {
   "cell_type": "code",
   "execution_count": 3,
   "metadata": {},
   "outputs": [
    {
     "name": "stdout",
     "output_type": "stream",
     "text": [
      "Digite uma letra: 2\n",
      "CONSOANTE\n"
     ]
    }
   ],
   "source": [
    "letra = input(\"Digite uma letra: \")\n",
    "\n",
    "if letra == (\"a\") or letra == (\"e\") or letra == (\"i\") or letra == (\"o\") or letra == (\"u\"):\n",
    "    print(\"VOGAL\")\n",
    "else:\n",
    "    print(\"CONSOANTE\")"
   ]
  },
  {
   "cell_type": "markdown",
   "metadata": {},
   "source": [
    "Faça um programa que pede duas notas de um aluno. Em seguida ele deve calcular a média do aluno e dar o seguinte resultado:\n",
    "A mensagem \"Aprovado\", se a média alcançada for maior ou igual a sete;\n",
    "A mensagem \"Reprovado\", se a média for menor do que sete;\n",
    "A mensagem \"Aprovado com Distinção\", se a média for igual a dez."
   ]
  },
  {
   "cell_type": "code",
   "execution_count": 4,
   "metadata": {},
   "outputs": [
    {
     "name": "stdout",
     "output_type": "stream",
     "text": [
      "Digite a primeira nota: 4\n",
      "Digite a segunda nota: 3\n",
      "REPROVADO\n"
     ]
    }
   ],
   "source": [
    "nota1 = float(input(\"Digite a primeira nota: \"))\n",
    "nota2 = float(input(\"Digite a segunda nota: \"))\n",
    "\n",
    "media = (nota1 + nota2)/2\n",
    "\n",
    "if media == 10:\n",
    "    print(\"APROVADO COM DISTINÇÃO\")\n",
    "elif media >= 7:\n",
    "    print(\"APROVADO\")\n",
    "else:\n",
    "    print(\"REPROVADO\")"
   ]
  },
  {
   "cell_type": "markdown",
   "metadata": {},
   "source": [
    "Faça um programa que peça dois números e imprima o maior deles."
   ]
  },
  {
   "cell_type": "code",
   "execution_count": 5,
   "metadata": {},
   "outputs": [
    {
     "name": "stdout",
     "output_type": "stream",
     "text": [
      "Digite um número: 2\n",
      "Digite outro número: 2\n",
      "2\n"
     ]
    }
   ],
   "source": [
    "num1 = int(input(\"Digite um número: \"))\n",
    "num2 = int(input(\"Digite outro número: \"))\n",
    "\n",
    "if num1 > num2:\n",
    "    print(f\"{num1}\")\n",
    "else:\n",
    "    print(f\"{num2}\")"
   ]
  },
  {
   "cell_type": "markdown",
   "metadata": {},
   "source": [
    "Faça um programa que peça três números e imprima o maior deles"
   ]
  },
  {
   "cell_type": "code",
   "execution_count": 6,
   "metadata": {},
   "outputs": [
    {
     "name": "stdout",
     "output_type": "stream",
     "text": [
      "Digite um número: 4\n",
      "Digite outro número: 3\n",
      "Digite o terceiro número: 5\n",
      "5\n"
     ]
    }
   ],
   "source": [
    "num1 = int(input(\"Digite um número: \"))\n",
    "num2 = int(input(\"Digite outro número: \"))\n",
    "num3 = int(input(\"Digite o terceiro número: \"))\n",
    "\n",
    "if num1 > num2 and num1 > num3:\n",
    "    print(f\"{num1}\")\n",
    "elif num2 > num1 and num2 > num3:\n",
    "    print(f\"{num2}\")\n",
    "else:\n",
    "    print(f\"{num3}\")"
   ]
  },
  {
   "cell_type": "markdown",
   "metadata": {},
   "source": [
    "Faça um programa que peça um número e informe se o número é inteiro ou decimal. Dica: utilize uma função de arredondamento.\n"
   ]
  },
  {
   "cell_type": "code",
   "execution_count": 7,
   "metadata": {},
   "outputs": [
    {
     "name": "stdout",
     "output_type": "stream",
     "text": [
      "Digite um num: 2\n",
      "INTEIRO\n"
     ]
    }
   ],
   "source": [
    "agar = float(input(\"Digite um num: \"))\n",
    "\n",
    "if agar % 1 == 0:\n",
    "    print(\"INTEIRO\")\n",
    "else:\n",
    "    print(\"DECIMAL\")"
   ]
  },
  {
   "cell_type": "markdown",
   "metadata": {},
   "source": [
    "Crie um laço while:\n",
    "    Que incremente o valor de uma variável de um em um até 5;\n",
    "    Que quebre o laço quando a variável for igual a 5;\n",
    "    Sendo o valor inicial dessa variável 0.."
   ]
  },
  {
   "cell_type": "code",
   "execution_count": 18,
   "metadata": {},
   "outputs": [
    {
     "name": "stdout",
     "output_type": "stream",
     "text": [
      "0\n",
      "1\n",
      "2\n",
      "3\n",
      "4\n",
      "5\n"
     ]
    }
   ],
   "source": [
    "stats = 0\n",
    "while stats <= 5:\n",
    "    print (stats)\n",
    "    stats = stats + 1"
   ]
  },
  {
   "cell_type": "markdown",
   "metadata": {},
   "source": [
    "Crie um laço while:\n",
    "Que diminua o valor de uma variável de um em um;\n",
    "Que quebre o laço quando a variável for menor que 0;\n",
    "Sendo o valor inicial dessa variável 20."
   ]
  },
  {
   "cell_type": "code",
   "execution_count": 9,
   "metadata": {},
   "outputs": [
    {
     "name": "stdout",
     "output_type": "stream",
     "text": [
      "20\n",
      "19\n",
      "18\n",
      "17\n",
      "16\n",
      "15\n",
      "14\n",
      "13\n",
      "12\n",
      "11\n",
      "10\n",
      "9\n",
      "8\n",
      "7\n",
      "6\n",
      "5\n",
      "4\n",
      "3\n",
      "2\n",
      "1\n",
      "0\n"
     ]
    }
   ],
   "source": [
    "variavel = 20\n",
    "while variavel >= 0:\n",
    "    print(variavel)\n",
    "    variavel = variavel - 1"
   ]
  },
  {
   "cell_type": "markdown",
   "metadata": {},
   "source": [
    "Crie um laço while:\n",
    "Que diminua o valor de uma variável de dois em dois;\n",
    "Que aumente o valor de outra de dois em dois;\n",
    "Que imprima no console \"Variáveis igualadas\";\n",
    "Que quebre o laço quando o valor das variáveis for igual a 4;\n",
    "Sendo o valor da maior variável 10 e o valor da menor -2.\n"
   ]
  },
  {
   "cell_type": "code",
   "execution_count": 10,
   "metadata": {},
   "outputs": [
    {
     "name": "stdout",
     "output_type": "stream",
     "text": [
      "10\n",
      "8\n",
      "6\n",
      "4\n",
      "-2\n",
      "0\n",
      "2\n",
      "4\n",
      "Contadores Igualados\n"
     ]
    }
   ],
   "source": [
    "contador1 = 10\n",
    "contador2 = -2\n",
    "\n",
    "while contador1 >= 4:\n",
    "    print(contador1)\n",
    "    contador1 = contador1 - 2\n",
    "    \n",
    "while contador2 <= 4:\n",
    "    print(contador2)\n",
    "    contador2 = contador2 + 2\n",
    "print(\"Contadores Igualados\")"
   ]
  },
  {
   "cell_type": "markdown",
   "metadata": {},
   "source": [
    "Crie um laço for:\n",
    "Que incremente o valor de uma variável de um em um até 5;\n",
    "Que quebre o laço quando a variável for igual a 5;\n",
    "Sendo o valor inicial dessa variável 0.."
   ]
  },
  {
   "cell_type": "code",
   "execution_count": 11,
   "metadata": {},
   "outputs": [
    {
     "name": "stdout",
     "output_type": "stream",
     "text": [
      "0\n",
      "1\n",
      "2\n",
      "3\n",
      "4\n",
      "5\n"
     ]
    }
   ],
   "source": [
    "for i in range(0,6):\n",
    "    print(i)"
   ]
  },
  {
   "cell_type": "markdown",
   "metadata": {},
   "source": [
    "Crie um laço for:\n",
    "Que diminua o valor de uma variável de um em um;\n",
    "Que quebre o laço quando a variável for menor que 0;\n",
    "Sendo o valor inicial dessa variável 20."
   ]
  },
  {
   "cell_type": "code",
   "execution_count": 12,
   "metadata": {},
   "outputs": [
    {
     "name": "stdout",
     "output_type": "stream",
     "text": [
      "20\n",
      "19\n",
      "18\n",
      "17\n",
      "16\n",
      "15\n",
      "14\n",
      "13\n",
      "12\n",
      "11\n",
      "10\n",
      "9\n",
      "8\n",
      "7\n",
      "6\n",
      "5\n",
      "4\n",
      "3\n",
      "2\n",
      "1\n",
      "0\n"
     ]
    }
   ],
   "source": [
    "for j in range(20,-1,-1):\n",
    "    print(j)"
   ]
  },
  {
   "cell_type": "markdown",
   "metadata": {},
   "source": [
    "Crie um laço for:\n",
    "Que diminua o valor de uma variável de dois em dois;\n",
    "Que aumente o valor de outra de dois em dois;\n",
    "Que imprima no console \"Variáveis igualadas\";\n",
    "Que quebre o laço quando o valor das variáveis for igual a 4;\n",
    "Sendo o valor da maior variável 10 e o valor da menor -2."
   ]
  },
  {
   "cell_type": "code",
   "execution_count": 13,
   "metadata": {},
   "outputs": [
    {
     "name": "stdout",
     "output_type": "stream",
     "text": [
      "10\n",
      "8\n",
      "6\n",
      "4\n",
      "-2\n",
      "0\n",
      "2\n",
      "4\n",
      "\n",
      "VARIÁVEIS IGUALDADAS\n"
     ]
    }
   ],
   "source": [
    "for item in range(10,2,-2):\n",
    "    print(item)\n",
    "for item2 in range(-2,6,2):\n",
    "    print(item2)\n",
    "    \n",
    "print(\"\\nVARIÁVEIS IGUALDADAS\")"
   ]
  },
  {
   "cell_type": "code",
   "execution_count": 14,
   "metadata": {},
   "outputs": [],
   "source": [
    "import math\n",
    "import random as rd"
   ]
  },
  {
   "cell_type": "code",
   "execution_count": 15,
   "metadata": {},
   "outputs": [
    {
     "data": {
      "text/plain": [
       "4.0"
      ]
     },
     "execution_count": 15,
     "metadata": {},
     "output_type": "execute_result"
    }
   ],
   "source": [
    "math.pow(2,2)"
   ]
  },
  {
   "cell_type": "code",
   "execution_count": 16,
   "metadata": {},
   "outputs": [
    {
     "data": {
      "text/plain": [
       "15"
      ]
     },
     "execution_count": 16,
     "metadata": {},
     "output_type": "execute_result"
    }
   ],
   "source": [
    "rd.randint(1, 20)"
   ]
  },
  {
   "cell_type": "code",
   "execution_count": null,
   "metadata": {},
   "outputs": [],
   "source": []
  }
 ],
 "metadata": {
  "kernelspec": {
   "display_name": "Python 3 (ipykernel)",
   "language": "python",
   "name": "python3"
  },
  "language_info": {
   "codemirror_mode": {
    "name": "ipython",
    "version": 3
   },
   "file_extension": ".py",
   "mimetype": "text/x-python",
   "name": "python",
   "nbconvert_exporter": "python",
   "pygments_lexer": "ipython3",
   "version": "3.9.7"
  }
 },
 "nbformat": 4,
 "nbformat_minor": 4
}
