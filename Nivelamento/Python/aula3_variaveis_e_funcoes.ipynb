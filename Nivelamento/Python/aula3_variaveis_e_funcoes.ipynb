{
 "cells": [
  {
   "cell_type": "code",
   "execution_count": 1,
   "id": "27b87eee",
   "metadata": {},
   "outputs": [
    {
     "name": "stdout",
     "output_type": "stream",
     "text": [
      "Eu gosto de sorvete\n",
      "Qual a sua comida preferida? banana\n",
      "Eu gosto de banana\n",
      "Eu gosto de banana\n",
      "Eu gosto de banana e de Laranja\n"
     ]
    }
   ],
   "source": [
    "print(\"Eu gosto de sorvete\")\n",
    "\n",
    "comida = input(\"Qual a sua comida preferida? \")\n",
    "\n",
    "print(\"Eu gosto de\", comida)\n",
    "print(\"Eu gosto de {}\".format(comida))\n",
    "print(f\"Eu gosto de {comida} e de {'Laranja'}\")"
   ]
  },
  {
   "cell_type": "code",
   "execution_count": 2,
   "id": "48a9349b",
   "metadata": {},
   "outputs": [],
   "source": [
    "a = 5\n",
    "b = 10"
   ]
  },
  {
   "cell_type": "code",
   "execution_count": 3,
   "id": "c0c96d6a",
   "metadata": {},
   "outputs": [],
   "source": [
    "a, b = b, a"
   ]
  },
  {
   "cell_type": "code",
   "execution_count": 4,
   "id": "7ff14ff3",
   "metadata": {},
   "outputs": [
    {
     "name": "stdout",
     "output_type": "stream",
     "text": [
      "a=5 e b=10\n"
     ]
    }
   ],
   "source": [
    "print(f'a={b} e b={a}')"
   ]
  },
  {
   "cell_type": "markdown",
   "id": "c7f9bb09",
   "metadata": {},
   "source": [
    "Crie um programa que pergunte o nome do usuário e sua idade e imprima em cada linha:\n",
    "\n",
    "Olá [nome do usuário]. \n",
    "Você tem [tantos] anos de idade.\n",
    "Ano que vem você terá [tantos].\n",
    "Daqui 5 anos você terá [tantos]"
   ]
  },
  {
   "cell_type": "code",
   "execution_count": 5,
   "id": "8b68c5bc",
   "metadata": {},
   "outputs": [
    {
     "name": "stdout",
     "output_type": "stream",
     "text": [
      "Qual o seu nome? danilo\n",
      "Qual a sua idade? 23\n",
      "Olá danilo.\n",
      "Você tem 23 anos de idade.\n",
      "Ano que vem você terá 24.\n",
      "Daqui 5 anos você terá 28.\n"
     ]
    }
   ],
   "source": [
    "nome = input(\"Qual o seu nome? \")\n",
    "idade = int(input(\"Qual a sua idade? \"))\n",
    "\n",
    "print(f\"Olá {nome}.\")\n",
    "print(f\"Você tem {idade} anos de idade.\")\n",
    "print(f\"Ano que vem você terá {idade + 1}.\")\n",
    "print(f\"Daqui 5 anos você terá {idade + 5}.\")"
   ]
  },
  {
   "cell_type": "markdown",
   "id": "b15edb0e",
   "metadata": {},
   "source": [
    "Atividade 6 - Crie um jogo  que peça um valor e retorne False se o valor não bater com o valor que você determinou."
   ]
  },
  {
   "cell_type": "code",
   "execution_count": 7,
   "id": "b86b2190",
   "metadata": {},
   "outputs": [
    {
     "name": "stdout",
     "output_type": "stream",
     "text": [
      "Insira um valor: \n",
      "10\n"
     ]
    },
    {
     "data": {
      "text/plain": [
       "True"
      ]
     },
     "execution_count": 7,
     "metadata": {},
     "output_type": "execute_result"
    }
   ],
   "source": [
    "valor1 = 10\n",
    "valor2 = int(input(\"Insira um valor: \\n\"))\n",
    "valor1 == valor2\n"
   ]
  },
  {
   "cell_type": "code",
   "execution_count": null,
   "id": "1d00ad0f",
   "metadata": {},
   "outputs": [],
   "source": []
  }
 ],
 "metadata": {
  "kernelspec": {
   "display_name": "Python 3 (ipykernel)",
   "language": "python",
   "name": "python3"
  },
  "language_info": {
   "codemirror_mode": {
    "name": "ipython",
    "version": 3
   },
   "file_extension": ".py",
   "mimetype": "text/x-python",
   "name": "python",
   "nbconvert_exporter": "python",
   "pygments_lexer": "ipython3",
   "version": "3.9.7"
  }
 },
 "nbformat": 4,
 "nbformat_minor": 5
}
