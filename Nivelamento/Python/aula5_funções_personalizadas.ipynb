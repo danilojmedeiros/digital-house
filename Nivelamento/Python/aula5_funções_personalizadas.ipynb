{
  "nbformat": 4,
  "nbformat_minor": 0,
  "metadata": {
    "colab": {
      "name": "Aula5_funções.ipynb",
      "provenance": []
    },
    "kernelspec": {
      "name": "python3",
      "display_name": "Python 3"
    },
    "language_info": {
      "name": "python"
    }
  },
  "cells": [
    {
      "cell_type": "code",
      "execution_count": 5,
      "metadata": {
        "id": "oONrdNQRtf6O"
      },
      "outputs": [],
      "source": [
        "def soma_os_primeiros_inteiros_ate(n):\n",
        "      soma = 0\n",
        "      for i in range(n+1):\n",
        "          soma = soma + i\n",
        "      return soma\n",
        "\n",
        "# Fórmula Gauss = n * (n + 1) // 2"
      ]
    },
    {
      "cell_type": "code",
      "source": [
        "soma_os_primeiros_inteiros_ate(10)"
      ],
      "metadata": {
        "colab": {
          "base_uri": "https://localhost:8080/"
        },
        "id": "sXc5fCQuqc3n",
        "outputId": "4688afa6-3cad-464b-9f31-2927fefe3b1b"
      },
      "execution_count": 2,
      "outputs": [
        {
          "output_type": "execute_result",
          "data": {
            "text/plain": [
              "55"
            ]
          },
          "metadata": {},
          "execution_count": 2
        }
      ]
    },
    {
      "cell_type": "code",
      "source": [
        "def mult(valor1,valor2):\n",
        "    return valor1*valor2"
      ],
      "metadata": {
        "id": "6RHFaPDGvRPC"
      },
      "execution_count": 3,
      "outputs": []
    },
    {
      "cell_type": "code",
      "source": [
        "mult(245,434)"
      ],
      "metadata": {
        "colab": {
          "base_uri": "https://localhost:8080/"
        },
        "id": "A7W51n24xUyE",
        "outputId": "342e4aa6-54dd-4246-9c6f-6e97173273d8"
      },
      "execution_count": 6,
      "outputs": [
        {
          "output_type": "execute_result",
          "data": {
            "text/plain": [
              "106330"
            ]
          },
          "metadata": {},
          "execution_count": 6
        }
      ]
    },
    {
      "cell_type": "markdown",
      "source": [
        "# Escreva uma função que receba um número como parâmetro e imprima na tela se esse número é positivo ou negativo."
      ],
      "metadata": {
        "id": "16nC0qnk0tdg"
      }
    },
    {
      "cell_type": "code",
      "source": [
        "def pos_neg(n):\n",
        "    if n>0:\n",
        "        print(\"O valor é positivo\")\n",
        "    else:\n",
        "        print(\"O valor é negativo\")"
      ],
      "metadata": {
        "id": "k41aM6UN0B9f"
      },
      "execution_count": 8,
      "outputs": []
    },
    {
      "cell_type": "code",
      "source": [
        "pos_neg(3)"
      ],
      "metadata": {
        "colab": {
          "base_uri": "https://localhost:8080/"
        },
        "id": "rqMn0NPJ0fio",
        "outputId": "1ea03c7b-d177-4571-80c9-77936b515cc9"
      },
      "execution_count": 9,
      "outputs": [
        {
          "output_type": "stream",
          "name": "stdout",
          "text": [
            "O valor é positivo\n"
          ]
        }
      ]
    },
    {
      "cell_type": "code",
      "source": [
        "pos_neg(-8)"
      ],
      "metadata": {
        "colab": {
          "base_uri": "https://localhost:8080/"
        },
        "id": "n327iu1Z0jR9",
        "outputId": "d29877fb-a14e-440c-c5b1-d4ce99d84261"
      },
      "execution_count": 10,
      "outputs": [
        {
          "output_type": "stream",
          "name": "stdout",
          "text": [
            "O valor é negativo\n"
          ]
        }
      ]
    },
    {
      "cell_type": "markdown",
      "source": [
        "# Escreva uma função que seja capaz de retornar o valor máximo entre 3 números.\n"
      ],
      "metadata": {
        "id": "hD6uCp-a019o"
      }
    },
    {
      "cell_type": "code",
      "source": [
        "def valor_maximo_3_valores(n1,n2,n3):\n",
        "    if n1 > n2 and n1 > n3:\n",
        "        print(f\"{n1} é maior\")\n",
        "    elif n2 > n1 and n2 > n3:\n",
        "        print(f\"{n2} é maior\")\n",
        "    else:\n",
        "        print(f\"{n3} é maior\")"
      ],
      "metadata": {
        "id": "wJ0oVXN70m1B"
      },
      "execution_count": 12,
      "outputs": []
    },
    {
      "cell_type": "code",
      "source": [
        "valor_maximo_3_valores(3,2,1)"
      ],
      "metadata": {
        "colab": {
          "base_uri": "https://localhost:8080/"
        },
        "id": "XlcmObOd3jg8",
        "outputId": "90b4a998-b767-47d8-e59d-08d87a3773be"
      },
      "execution_count": 13,
      "outputs": [
        {
          "output_type": "stream",
          "name": "stdout",
          "text": [
            "3 é maior\n"
          ]
        }
      ]
    },
    {
      "cell_type": "code",
      "source": [
        "valor_maximo_3_valores(1,2,0)"
      ],
      "metadata": {
        "colab": {
          "base_uri": "https://localhost:8080/"
        },
        "id": "oQmGKb3h3mKg",
        "outputId": "811450e0-9e30-4cf2-9811-2561ca8a38be"
      },
      "execution_count": 15,
      "outputs": [
        {
          "output_type": "stream",
          "name": "stdout",
          "text": [
            "2 é maior\n"
          ]
        }
      ]
    },
    {
      "cell_type": "code",
      "source": [
        "valor_maximo_3_valores(1,2,3)"
      ],
      "metadata": {
        "colab": {
          "base_uri": "https://localhost:8080/"
        },
        "id": "kBq0usxF3rP2",
        "outputId": "bab6f8cb-d227-47cd-f14f-abe65b1170a4"
      },
      "execution_count": 16,
      "outputs": [
        {
          "output_type": "stream",
          "name": "stdout",
          "text": [
            "3 é maior\n"
          ]
        }
      ]
    },
    {
      "cell_type": "markdown",
      "source": [
        "#Escreva uma função que some todos os valores de uma lista de números e retorne o valor da soma."
      ],
      "metadata": {
        "id": "Bi_uUMsH30tU"
      }
    },
    {
      "cell_type": "code",
      "source": [
        "def lista_soma(lista):\n",
        "    soma = 0\n",
        "    for valor in lista:\n",
        "        soma = soma + valor\n",
        "    return soma "
      ],
      "metadata": {
        "id": "k_ORfIsv4RLP"
      },
      "execution_count": 18,
      "outputs": []
    },
    {
      "cell_type": "code",
      "source": [
        "lista_soma([1,2,3,4,5,6])"
      ],
      "metadata": {
        "colab": {
          "base_uri": "https://localhost:8080/"
        },
        "id": "D8q4wFMo6C5x",
        "outputId": "b3f62d10-6c01-4fea-d7e4-326a5c9c3723"
      },
      "execution_count": 21,
      "outputs": [
        {
          "output_type": "execute_result",
          "data": {
            "text/plain": [
              "21"
            ]
          },
          "metadata": {},
          "execution_count": 21
        }
      ]
    },
    {
      "cell_type": "markdown",
      "source": [
        "# Escreva uma função que multiplique todos os valores de uma lista de números e retorne o valor calculado."
      ],
      "metadata": {
        "id": "zUWzA0ti800Q"
      }
    },
    {
      "cell_type": "code",
      "source": [
        "def mult_valores(lista):\n",
        "    stats = 1\n",
        "    for i in lista:\n",
        "        stats = stats*i\n",
        "    return stats\n"
      ],
      "metadata": {
        "id": "xrnsJ3wK88Dd"
      },
      "execution_count": 7,
      "outputs": []
    },
    {
      "cell_type": "code",
      "source": [
        "mult_valores([5,4,3,2,1])"
      ],
      "metadata": {
        "colab": {
          "base_uri": "https://localhost:8080/"
        },
        "id": "cT6rQIqy94_R",
        "outputId": "73dd1ae8-2278-442e-c5ee-9af4677d1350"
      },
      "execution_count": 9,
      "outputs": [
        {
          "output_type": "execute_result",
          "data": {
            "text/plain": [
              "120"
            ]
          },
          "metadata": {},
          "execution_count": 9
        }
      ]
    },
    {
      "cell_type": "markdown",
      "source": [
        "# Escreva a função inverte, que imprime na tela uma string, passada para ela, de trás para frente. "
      ],
      "metadata": {
        "id": "W5EJNmhi-VHK"
      }
    },
    {
      "cell_type": "code",
      "source": [
        "def inverter_string(txt):\n",
        "    return txt[::-1]"
      ],
      "metadata": {
        "id": "23F5j1Tq-BIq"
      },
      "execution_count": 40,
      "outputs": []
    },
    {
      "cell_type": "code",
      "source": [
        "inverter_string('cachorro')"
      ],
      "metadata": {
        "colab": {
          "base_uri": "https://localhost:8080/",
          "height": 35
        },
        "id": "mMpkRQIE_CuG",
        "outputId": "d9ffc9eb-cb34-4b36-cf2a-38ab2ce7a1e7"
      },
      "execution_count": 42,
      "outputs": [
        {
          "output_type": "execute_result",
          "data": {
            "application/vnd.google.colaboratory.intrinsic+json": {
              "type": "string"
            },
            "text/plain": [
              "'orrohcac'"
            ]
          },
          "metadata": {},
          "execution_count": 42
        }
      ]
    }
  ]
}